{
 "cells": [
  {
   "cell_type": "code",
   "execution_count": 16,
   "id": "5b819cb6",
   "metadata": {},
   "outputs": [],
   "source": [
    "import numpy as np"
   ]
  },
  {
   "cell_type": "code",
   "execution_count": 17,
   "id": "6a5f127f",
   "metadata": {},
   "outputs": [],
   "source": [
    "def init_pop(pop_size,N):\n",
    "    return np.random.randint(N,size=(pop_size,N))"
   ]
  },
  {
   "cell_type": "code",
   "execution_count": 18,
   "id": "6e8d4fc9",
   "metadata": {},
   "outputs": [],
   "source": [
    "def calc_fitness (population,N):\n",
    "    fitness_vals = []\n",
    "    for x in population:\n",
    "        penalty = 0\n",
    "        for i in range(N):\n",
    "            r = x[i]\n",
    "            for j in range(N):\n",
    "                if i == j:\n",
    "                    continue\n",
    "                d = abs(i - j)\n",
    "                if x[j] in [r, r-d, r+d]:\n",
    "                    penalty += 1\n",
    "        fitness_vals.append(penalty)\n",
    "    return -1 * np.array (fitness_vals)"
   ]
  },
  {
   "cell_type": "code",
   "execution_count": 19,
   "id": "baade0ae",
   "metadata": {},
   "outputs": [],
   "source": [
    "def selection(population, fitness_vals):\n",
    "    probs = fitness_vals.copy ()\n",
    "    probs += abs(probs.min()) + 1\n",
    "    probs = probs/probs.sum()\n",
    "    N = len(population)\n",
    "    indices = np.arange(N)\n",
    "    selected_indices = np.random.choice(indices, size=N, p=probs)\n",
    "    selected_population = population[selected_indices]\n",
    "    return selected_population"
   ]
  },
  {
   "cell_type": "code",
   "execution_count": 20,
   "id": "b9c3e921",
   "metadata": {},
   "outputs": [],
   "source": [
    "def crossover (parent1, parent2, pc,N) :\n",
    "    r = np.random.random()\n",
    "    if r < pc:\n",
    "        m = np.random.randint(1, N)\n",
    "        child1 = np.concatenate([parent1[:m], parent2[m:]])\n",
    "        child2 = np.concatenate([parent2[:m], parent1[m:]])\n",
    "    else:\n",
    "        child1 = parent1.copy()\n",
    "        child2 = parent2.copy()\n",
    "    return child1, child2"
   ]
  },
  {
   "cell_type": "code",
   "execution_count": 21,
   "id": "4c45f15d",
   "metadata": {},
   "outputs": [],
   "source": [
    "def mutation(individual, pm,N):\n",
    "    r = np.random.random()\n",
    "    if r < pm:\n",
    "        m = np.random.randint(N)\n",
    "        individual[m] = np.random.randint(N)\n",
    "    return individual"
   ]
  },
  {
   "cell_type": "code",
   "execution_count": 22,
   "id": "25423400",
   "metadata": {},
   "outputs": [],
   "source": [
    "def crossover_mutation(selected_pop1, pc, pm,N) :\n",
    "    N1 = len(selected_pop1)\n",
    "    new_pop = np.empty((N1, N), dtype=int)\n",
    "    for i in range(0, N1, 2):\n",
    "        parent1 = selected_pop1[i]\n",
    "        parent2 = selected_pop1[i+1]\n",
    "        child1, child2 = crossover(parent1, parent2, pc,N)\n",
    "        new_pop[i] = child1\n",
    "        new_pop[i+1] = child2\n",
    "    for i in range(N1) :\n",
    "        mutation(new_pop[i], pm,N)\n",
    "    return new_pop"
   ]
  },
  {
   "cell_type": "code",
   "execution_count": 23,
   "id": "1010facd",
   "metadata": {},
   "outputs": [],
   "source": [
    "def eight_queens(pop_size, max_generations, pc=0.7, pm=0.01,N=8):\n",
    "    population = init_pop(pop_size,N)\n",
    "    best_fitness_overall = None\n",
    "    for i_gen in range(max_generations) :\n",
    "        fitness_vals = calc_fitness(population,N)\n",
    "        best_i = fitness_vals.argmax()\n",
    "        best_fitness = fitness_vals[best_i]\n",
    "        if best_fitness_overall is None or best_fitness > best_fitness_overall:\n",
    "            best_fitness_overall = best_fitness\n",
    "            best_solution = population[best_i]\n",
    "        print(f'\\rgen={i_gen+1:06} -f={-best_fitness:03}', end='')\n",
    "        if best_fitness == 0:\n",
    "            print('\\nFound  optimal solution')\n",
    "            break\n",
    "        selected_pop1 = selection(population, fitness_vals)\n",
    "        \n",
    "        population = crossover_mutation(selected_pop1, pc, pm,N)\n",
    "    print ()\n",
    "    print (best_solution)\n",
    "    N\n",
    "    board = [[0 for x in range(N)] for y in range(N)]\n",
    "\n",
    "    # place the queens on the board\n",
    "    for i in range(N):\n",
    "        board[best_solution[i]][i] = 1\n",
    "\n",
    "    # print the chessboard with queens\n",
    "    for row in board:\n",
    "        line = \"\"\n",
    "        for square in row:\n",
    "            if square == 1:\n",
    "                line += \"Q \"\n",
    "            else:\n",
    "                line += \". \"\n",
    "        print(line)\n"
   ]
  },
  {
   "cell_type": "code",
   "execution_count": 24,
   "id": "831fe138",
   "metadata": {},
   "outputs": [
    {
     "name": "stdout",
     "output_type": "stream",
     "text": [
      "gen=000012 -f=000\n",
      "Found optimal solution\n",
      "\n",
      "[0 4 7 5 2 6 1 3]\n",
      "Q . . . . . . . \n",
      ". . . . . . Q . \n",
      ". . . . Q . . . \n",
      ". . . . . . . Q \n",
      ". Q . . . . . . \n",
      ". . . Q . . . . \n",
      ". . . . . Q . . \n",
      ". . Q . . . . . \n"
     ]
    }
   ],
   "source": [
    "eight_queens(pop_size=1000, max_generations=10000, pc=0.5, pm=0.05,N=8)"
   ]
  },
  {
   "cell_type": "code",
   "execution_count": null,
   "id": "44b8d385",
   "metadata": {},
   "outputs": [],
   "source": []
  },
  {
   "cell_type": "code",
   "execution_count": null,
   "id": "f17a7224",
   "metadata": {},
   "outputs": [],
   "source": []
  }
 ],
 "metadata": {
  "kernelspec": {
   "display_name": "Python 3 (ipykernel)",
   "language": "python",
   "name": "python3"
  },
  "language_info": {
   "codemirror_mode": {
    "name": "ipython",
    "version": 3
   },
   "file_extension": ".py",
   "mimetype": "text/x-python",
   "name": "python",
   "nbconvert_exporter": "python",
   "pygments_lexer": "ipython3",
   "version": "3.9.7"
  }
 },
 "nbformat": 4,
 "nbformat_minor": 5
}
